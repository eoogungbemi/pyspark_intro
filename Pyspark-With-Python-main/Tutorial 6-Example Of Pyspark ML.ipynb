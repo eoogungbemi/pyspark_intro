{
 "cells": [
  {
   "cell_type": "markdown",
   "id": "16da6c54",
   "metadata": {},
   "source": [
    "### Examples Of Pyspark ML"
   ]
  },
  {
   "cell_type": "code",
   "id": "0b9da3ad",
   "metadata": {
    "ExecuteTime": {
     "end_time": "2025-07-15T11:47:36.386213Z",
     "start_time": "2025-07-15T11:47:34.556238Z"
    }
   },
   "source": [
    "from pyspark.sql import SparkSession\n",
    "spark=SparkSession.builder.appName('Missing').getOrCreate()"
   ],
   "outputs": [
    {
     "name": "stderr",
     "output_type": "stream",
     "text": [
      "WARNING: Using incubator modules: jdk.incubator.vector\n",
      "Using Spark's default log4j profile: org/apache/spark/log4j2-defaults.properties\n",
      "Setting default log level to \"WARN\".\n",
      "To adjust logging level use sc.setLogLevel(newLevel). For SparkR, use setLogLevel(newLevel).\n",
      "25/07/15 12:47:35 WARN NativeCodeLoader: Unable to load native-hadoop library for your platform... using builtin-java classes where applicable\n",
      "25/07/15 12:47:35 WARN Utils: Service 'SparkUI' could not bind on port 4040. Attempting port 4041.\n",
      "25/07/15 12:47:35 WARN Utils: Service 'SparkUI' could not bind on port 4041. Attempting port 4042.\n",
      "25/07/15 12:47:35 WARN Utils: Service 'SparkUI' could not bind on port 4042. Attempting port 4043.\n",
      "25/07/15 12:47:35 WARN Utils: Service 'SparkUI' could not bind on port 4043. Attempting port 4044.\n"
     ]
    }
   ],
   "execution_count": 1
  },
  {
   "cell_type": "code",
   "id": "735525da",
   "metadata": {
    "ExecuteTime": {
     "end_time": "2025-07-15T11:47:37.484888Z",
     "start_time": "2025-07-15T11:47:36.430335Z"
    }
   },
   "source": [
    "## Read The dataset\n",
    "training = spark.read.csv('test1.csv',header=True,inferSchema=True)"
   ],
   "outputs": [],
   "execution_count": 2
  },
  {
   "cell_type": "code",
   "id": "d6e038c9",
   "metadata": {
    "ExecuteTime": {
     "end_time": "2025-07-15T11:47:37.605417Z",
     "start_time": "2025-07-15T11:47:37.497344Z"
    }
   },
   "source": [
    "training.show()\n",
    "\n"
   ],
   "outputs": [
    {
     "name": "stdout",
     "output_type": "stream",
     "text": [
      "+-----+---+----------+------+\n",
      "| Name|age|Experience|Salary|\n",
      "+-----+---+----------+------+\n",
      "| John| 30|        11| 29000|\n",
      "|James| 29|         9| 26000|\n",
      "| Anne| 28|         5| 19000|\n",
      "|Paula| 23|         3| 21000|\n",
      "|Lizzy| 20|         1| 14000|\n",
      "| Alex| 22|         2| 19000|\n",
      "+-----+---+----------+------+\n",
      "\n"
     ]
    }
   ],
   "execution_count": 3
  },
  {
   "cell_type": "code",
   "id": "6b3dd5ff",
   "metadata": {
    "ExecuteTime": {
     "end_time": "2025-07-15T11:47:37.805574Z",
     "start_time": "2025-07-15T11:47:37.803101Z"
    }
   },
   "source": [
    "training.printSchema()"
   ],
   "outputs": [
    {
     "name": "stdout",
     "output_type": "stream",
     "text": [
      "root\n",
      " |-- Name: string (nullable = true)\n",
      " |-- age: integer (nullable = true)\n",
      " |-- Experience: integer (nullable = true)\n",
      " |-- Salary: integer (nullable = true)\n",
      "\n"
     ]
    }
   ],
   "execution_count": 4
  },
  {
   "cell_type": "code",
   "id": "5d3227e6",
   "metadata": {
    "ExecuteTime": {
     "end_time": "2025-07-15T11:47:37.832946Z",
     "start_time": "2025-07-15T11:47:37.830393Z"
    }
   },
   "source": [
    "training.columns"
   ],
   "outputs": [
    {
     "data": {
      "text/plain": [
       "['Name', 'age', 'Experience', 'Salary']"
      ]
     },
     "execution_count": 5,
     "metadata": {},
     "output_type": "execute_result"
    }
   ],
   "execution_count": 5
  },
  {
   "cell_type": "raw",
   "id": "ed5f3ef1-b25f-4aea-9c98-5d1297e76f5e",
   "metadata": {},
   "source": [
    "[Age,Experience]----> new feature--->independent feature"
   ]
  },
  {
   "cell_type": "code",
   "id": "e6273555",
   "metadata": {
    "ExecuteTime": {
     "end_time": "2025-07-15T11:47:37.881501Z",
     "start_time": "2025-07-15T11:47:37.853738Z"
    }
   },
   "source": [
    "from pyspark.ml.feature import VectorAssembler\n",
    "featureassembler=VectorAssembler(inputCols=[\"age\",\"Experience\"],outputCol=\"Independent Features\")"
   ],
   "outputs": [],
   "execution_count": 6
  },
  {
   "cell_type": "code",
   "id": "0b69744c",
   "metadata": {
    "ExecuteTime": {
     "end_time": "2025-07-15T11:47:37.911219Z",
     "start_time": "2025-07-15T11:47:37.889058Z"
    }
   },
   "source": [
    "output=featureassembler.transform(training)"
   ],
   "outputs": [],
   "execution_count": 7
  },
  {
   "cell_type": "code",
   "id": "60961194",
   "metadata": {
    "ExecuteTime": {
     "end_time": "2025-07-15T11:47:38.072742Z",
     "start_time": "2025-07-15T11:47:37.957548Z"
    }
   },
   "source": [
    "output.show()"
   ],
   "outputs": [
    {
     "name": "stdout",
     "output_type": "stream",
     "text": [
      "+-----+---+----------+------+--------------------+\n",
      "| Name|age|Experience|Salary|Independent Features|\n",
      "+-----+---+----------+------+--------------------+\n",
      "| John| 30|        11| 29000|         [30.0,11.0]|\n",
      "|James| 29|         9| 26000|          [29.0,9.0]|\n",
      "| Anne| 28|         5| 19000|          [28.0,5.0]|\n",
      "|Paula| 23|         3| 21000|          [23.0,3.0]|\n",
      "|Lizzy| 20|         1| 14000|          [20.0,1.0]|\n",
      "| Alex| 22|         2| 19000|          [22.0,2.0]|\n",
      "+-----+---+----------+------+--------------------+\n",
      "\n"
     ]
    }
   ],
   "execution_count": 8
  },
  {
   "cell_type": "code",
   "id": "2c27434a",
   "metadata": {
    "ExecuteTime": {
     "end_time": "2025-07-15T11:47:38.104213Z",
     "start_time": "2025-07-15T11:47:38.101945Z"
    }
   },
   "source": [
    "output.columns"
   ],
   "outputs": [
    {
     "data": {
      "text/plain": [
       "['Name', 'age', 'Experience', 'Salary', 'Independent Features']"
      ]
     },
     "execution_count": 9,
     "metadata": {},
     "output_type": "execute_result"
    }
   ],
   "execution_count": 9
  },
  {
   "cell_type": "code",
   "id": "54a0ccab",
   "metadata": {
    "ExecuteTime": {
     "end_time": "2025-07-15T11:47:38.135970Z",
     "start_time": "2025-07-15T11:47:38.128389Z"
    }
   },
   "source": [
    "finalized_data=output.select(\"Independent Features\",\"Salary\")"
   ],
   "outputs": [],
   "execution_count": 10
  },
  {
   "cell_type": "code",
   "id": "f7a73845",
   "metadata": {
    "ExecuteTime": {
     "end_time": "2025-07-15T11:47:38.219129Z",
     "start_time": "2025-07-15T11:47:38.160339Z"
    }
   },
   "source": [
    "finalized_data.show()"
   ],
   "outputs": [
    {
     "name": "stdout",
     "output_type": "stream",
     "text": [
      "+--------------------+------+\n",
      "|Independent Features|Salary|\n",
      "+--------------------+------+\n",
      "|         [30.0,11.0]| 29000|\n",
      "|          [29.0,9.0]| 26000|\n",
      "|          [28.0,5.0]| 19000|\n",
      "|          [23.0,3.0]| 21000|\n",
      "|          [20.0,1.0]| 14000|\n",
      "|          [22.0,2.0]| 19000|\n",
      "+--------------------+------+\n",
      "\n"
     ]
    }
   ],
   "execution_count": 11
  },
  {
   "cell_type": "code",
   "id": "0b11192b",
   "metadata": {
    "ExecuteTime": {
     "end_time": "2025-07-15T11:47:38.641704Z",
     "start_time": "2025-07-15T11:47:38.248655Z"
    }
   },
   "source": [
    "from pyspark.ml.regression import LinearRegression\n",
    "##train test split\n",
    "train_data,test_data=finalized_data.randomSplit([0.75,0.25])\n",
    "regressor=LinearRegression(featuresCol='Independent Features', labelCol='Salary')\n",
    "regressor=regressor.fit(train_data)"
   ],
   "outputs": [
    {
     "name": "stderr",
     "output_type": "stream",
     "text": [
      "25/07/15 12:47:38 WARN Instrumentation: [753de2c1] regParam is zero, which might cause numerical instability and overfitting.\n",
      "25/07/15 12:47:38 WARN InstanceBuilder: Failed to load implementation from:dev.ludovic.netlib.blas.JNIBLAS\n",
      "25/07/15 12:47:38 WARN InstanceBuilder: Failed to load implementation from:dev.ludovic.netlib.lapack.JNILAPACK\n"
     ]
    }
   ],
   "execution_count": 12
  },
  {
   "cell_type": "code",
   "id": "fa4ec997",
   "metadata": {
    "ExecuteTime": {
     "end_time": "2025-07-15T11:47:38.703214Z",
     "start_time": "2025-07-15T11:47:38.694147Z"
    }
   },
   "source": [
    "### Coefficients\n",
    "regressor.coefficients"
   ],
   "outputs": [
    {
     "data": {
      "text/plain": [
       "DenseVector([-1000.0, 2000.0])"
      ]
     },
     "execution_count": 13,
     "metadata": {},
     "output_type": "execute_result"
    }
   ],
   "execution_count": 13
  },
  {
   "cell_type": "code",
   "id": "eba911b6",
   "metadata": {
    "ExecuteTime": {
     "end_time": "2025-07-15T11:47:38.732126Z",
     "start_time": "2025-07-15T11:47:38.730066Z"
    }
   },
   "source": [
    "### Intercepts\n",
    "regressor.intercept"
   ],
   "outputs": [
    {
     "data": {
      "text/plain": [
       "36999.99999999878"
      ]
     },
     "execution_count": 14,
     "metadata": {},
     "output_type": "execute_result"
    }
   ],
   "execution_count": 14
  },
  {
   "cell_type": "code",
   "id": "266a2826-c017-4399-b1a0-d560470592af",
   "metadata": {
    "ExecuteTime": {
     "end_time": "2025-07-15T11:47:38.829847Z",
     "start_time": "2025-07-15T11:47:38.757680Z"
    }
   },
   "source": [
    "train_data.show()"
   ],
   "outputs": [
    {
     "name": "stdout",
     "output_type": "stream",
     "text": [
      "+--------------------+------+\n",
      "|Independent Features|Salary|\n",
      "+--------------------+------+\n",
      "|          [22.0,2.0]| 19000|\n",
      "|          [28.0,5.0]| 19000|\n",
      "|          [29.0,9.0]| 26000|\n",
      "|         [30.0,11.0]| 29000|\n",
      "+--------------------+------+\n",
      "\n"
     ]
    }
   ],
   "execution_count": 15
  },
  {
   "cell_type": "code",
   "id": "8d7185bf-10b9-4ebb-9caf-0a5607ff394c",
   "metadata": {
    "ExecuteTime": {
     "end_time": "2025-07-15T11:47:38.922050Z",
     "start_time": "2025-07-15T11:47:38.860337Z"
    }
   },
   "source": [
    "test_data.show()"
   ],
   "outputs": [
    {
     "name": "stdout",
     "output_type": "stream",
     "text": [
      "+--------------------+------+\n",
      "|Independent Features|Salary|\n",
      "+--------------------+------+\n",
      "|          [20.0,1.0]| 14000|\n",
      "|          [23.0,3.0]| 21000|\n",
      "+--------------------+------+\n",
      "\n"
     ]
    }
   ],
   "execution_count": 16
  },
  {
   "cell_type": "code",
   "id": "2ba2bc70",
   "metadata": {
    "ExecuteTime": {
     "end_time": "2025-07-15T11:47:39.031221Z",
     "start_time": "2025-07-15T11:47:38.955216Z"
    }
   },
   "source": [
    "### Prediction\n",
    "pred_results=regressor.evaluate(test_data)"
   ],
   "outputs": [],
   "execution_count": 17
  },
  {
   "cell_type": "code",
   "id": "489d6392",
   "metadata": {
    "ExecuteTime": {
     "end_time": "2025-07-15T11:47:39.121148Z",
     "start_time": "2025-07-15T11:47:39.059371Z"
    }
   },
   "source": [
    "pred_results.predictions.show()"
   ],
   "outputs": [
    {
     "name": "stdout",
     "output_type": "stream",
     "text": [
      "+--------------------+------+------------------+\n",
      "|Independent Features|Salary|        prediction|\n",
      "+--------------------+------+------------------+\n",
      "|          [20.0,1.0]| 14000|18999.999999999833|\n",
      "|          [23.0,3.0]| 21000| 19999.99999999992|\n",
      "+--------------------+------+------------------+\n",
      "\n"
     ]
    }
   ],
   "execution_count": 18
  },
  {
   "cell_type": "code",
   "id": "0534e854",
   "metadata": {
    "ExecuteTime": {
     "end_time": "2025-07-15T11:47:39.151411Z",
     "start_time": "2025-07-15T11:47:39.149173Z"
    }
   },
   "source": [
    "pred_results.meanAbsoluteError,pred_results.meanSquaredError"
   ],
   "outputs": [
    {
     "data": {
      "text/plain": [
       "(2999.9999999999563, 12999999.999999246)"
      ]
     },
     "execution_count": 19,
     "metadata": {},
     "output_type": "execute_result"
    }
   ],
   "execution_count": 19
  },
  {
   "cell_type": "code",
   "id": "822a394d-4a25-4761-aa38-5782c25bacca",
   "metadata": {
    "ExecuteTime": {
     "end_time": "2025-07-15T11:47:39.173828Z",
     "start_time": "2025-07-15T11:47:39.172467Z"
    }
   },
   "source": [],
   "outputs": [],
   "execution_count": null
  }
 ],
 "metadata": {
  "kernelspec": {
   "display_name": "Python 3 (ipykernel)",
   "language": "python",
   "name": "python3"
  },
  "language_info": {
   "codemirror_mode": {
    "name": "ipython",
    "version": 3
   },
   "file_extension": ".py",
   "mimetype": "text/x-python",
   "name": "python",
   "nbconvert_exporter": "python",
   "pygments_lexer": "ipython3",
   "version": "3.9.18"
  }
 },
 "nbformat": 4,
 "nbformat_minor": 5
}
