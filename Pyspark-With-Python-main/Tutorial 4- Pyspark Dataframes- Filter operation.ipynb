{
 "cells": [
  {
   "cell_type": "markdown",
   "id": "5d6364f6",
   "metadata": {
    "tags": []
   },
   "source": [
    "### Pyspark Dataframes\n",
    "- Filter Operation\n",
    "- &,|,==\n",
    "- ~"
   ]
  },
  {
   "cell_type": "code",
   "id": "d8d843e1",
   "metadata": {
    "ExecuteTime": {
     "end_time": "2025-07-15T11:47:20.357996Z",
     "start_time": "2025-07-15T11:47:20.304438Z"
    }
   },
   "source": [
    "from pyspark.sql import SparkSession"
   ],
   "outputs": [],
   "execution_count": 1
  },
  {
   "cell_type": "code",
   "id": "9fd2900c",
   "metadata": {
    "ExecuteTime": {
     "end_time": "2025-07-15T11:47:22.188440Z",
     "start_time": "2025-07-15T11:47:20.397746Z"
    }
   },
   "source": [
    "spark=SparkSession.builder.appName('dataframe').getOrCreate()"
   ],
   "outputs": [
    {
     "name": "stderr",
     "output_type": "stream",
     "text": [
      "WARNING: Using incubator modules: jdk.incubator.vector\n",
      "Using Spark's default log4j profile: org/apache/spark/log4j2-defaults.properties\n",
      "Setting default log level to \"WARN\".\n",
      "To adjust logging level use sc.setLogLevel(newLevel). For SparkR, use setLogLevel(newLevel).\n",
      "25/07/15 12:47:21 WARN NativeCodeLoader: Unable to load native-hadoop library for your platform... using builtin-java classes where applicable\n",
      "25/07/15 12:47:21 WARN Utils: Service 'SparkUI' could not bind on port 4040. Attempting port 4041.\n",
      "25/07/15 12:47:21 WARN Utils: Service 'SparkUI' could not bind on port 4041. Attempting port 4042.\n"
     ]
    }
   ],
   "execution_count": 2
  },
  {
   "cell_type": "code",
   "id": "7964d064",
   "metadata": {
    "ExecuteTime": {
     "end_time": "2025-07-15T11:47:23.363126Z",
     "start_time": "2025-07-15T11:47:22.197570Z"
    }
   },
   "source": [
    "df_pyspark=spark.read.csv('test1.csv',header=True,inferSchema=True)\n",
    "df_pyspark.show()"
   ],
   "outputs": [
    {
     "name": "stdout",
     "output_type": "stream",
     "text": [
      "+-----+---+----------+------+\n",
      "| Name|age|Experience|Salary|\n",
      "+-----+---+----------+------+\n",
      "| John| 30|        11| 29000|\n",
      "|James| 29|         9| 26000|\n",
      "| Anne| 28|         5| 19000|\n",
      "|Paula| 23|         3| 21000|\n",
      "|Lizzy| 20|         1| 14000|\n",
      "| Alex| 22|         2| 19000|\n",
      "+-----+---+----------+------+\n",
      "\n"
     ]
    }
   ],
   "execution_count": 3
  },
  {
   "cell_type": "markdown",
   "id": "e0fdbb15",
   "metadata": {},
   "source": [
    "### Filter Operations"
   ]
  },
  {
   "cell_type": "code",
   "id": "c21edffc",
   "metadata": {
    "ExecuteTime": {
     "end_time": "2025-07-15T11:47:23.642988Z",
     "start_time": "2025-07-15T11:47:23.575802Z"
    }
   },
   "source": [
    "### Salary of the people less than or equal to 20000\n",
    "df_pyspark.filter(\"Salary<=20000\").show()"
   ],
   "outputs": [
    {
     "name": "stdout",
     "output_type": "stream",
     "text": [
      "+-----+---+----------+------+\n",
      "| Name|age|Experience|Salary|\n",
      "+-----+---+----------+------+\n",
      "| Anne| 28|         5| 19000|\n",
      "|Lizzy| 20|         1| 14000|\n",
      "| Alex| 22|         2| 19000|\n",
      "+-----+---+----------+------+\n",
      "\n"
     ]
    }
   ],
   "execution_count": 4
  },
  {
   "cell_type": "code",
   "id": "d5a5f3af",
   "metadata": {
    "ExecuteTime": {
     "end_time": "2025-07-15T11:47:23.752294Z",
     "start_time": "2025-07-15T11:47:23.676589Z"
    }
   },
   "source": [
    "df_pyspark.filter(\"Salary<=20000\").select(['Name','age']).show()"
   ],
   "outputs": [
    {
     "name": "stdout",
     "output_type": "stream",
     "text": [
      "+-----+---+\n",
      "| Name|age|\n",
      "+-----+---+\n",
      "| Anne| 28|\n",
      "|Lizzy| 20|\n",
      "| Alex| 22|\n",
      "+-----+---+\n",
      "\n"
     ]
    }
   ],
   "execution_count": 5
  },
  {
   "cell_type": "code",
   "id": "4bebe963",
   "metadata": {
    "ExecuteTime": {
     "end_time": "2025-07-15T11:47:23.944483Z",
     "start_time": "2025-07-15T11:47:23.897180Z"
    }
   },
   "source": [
    "df_pyspark.filter(df_pyspark['Salary']<=20000).show()"
   ],
   "outputs": [
    {
     "name": "stdout",
     "output_type": "stream",
     "text": [
      "+-----+---+----------+------+\n",
      "| Name|age|Experience|Salary|\n",
      "+-----+---+----------+------+\n",
      "| Anne| 28|         5| 19000|\n",
      "|Lizzy| 20|         1| 14000|\n",
      "| Alex| 22|         2| 19000|\n",
      "+-----+---+----------+------+\n",
      "\n"
     ]
    }
   ],
   "execution_count": 6
  },
  {
   "cell_type": "code",
   "id": "26f76ee1",
   "metadata": {
    "ExecuteTime": {
     "end_time": "2025-07-15T11:47:24.028574Z",
     "start_time": "2025-07-15T11:47:23.976877Z"
    }
   },
   "source": [
    "df_pyspark.filter((df_pyspark['Salary']<=20000) | \n",
    "                  (df_pyspark['Salary']>=15000)).show()"
   ],
   "outputs": [
    {
     "name": "stdout",
     "output_type": "stream",
     "text": [
      "+-----+---+----------+------+\n",
      "| Name|age|Experience|Salary|\n",
      "+-----+---+----------+------+\n",
      "| John| 30|        11| 29000|\n",
      "|James| 29|         9| 26000|\n",
      "| Anne| 28|         5| 19000|\n",
      "|Paula| 23|         3| 21000|\n",
      "|Lizzy| 20|         1| 14000|\n",
      "| Alex| 22|         2| 19000|\n",
      "+-----+---+----------+------+\n",
      "\n"
     ]
    }
   ],
   "execution_count": 7
  },
  {
   "cell_type": "code",
   "id": "5df3d5ab",
   "metadata": {
    "ExecuteTime": {
     "end_time": "2025-07-15T11:47:24.114100Z",
     "start_time": "2025-07-15T11:47:24.061209Z"
    }
   },
   "source": [
    "df_pyspark.filter(~(df_pyspark['Salary']<=20000)).show()"
   ],
   "outputs": [
    {
     "name": "stdout",
     "output_type": "stream",
     "text": [
      "+-----+---+----------+------+\n",
      "| Name|age|Experience|Salary|\n",
      "+-----+---+----------+------+\n",
      "| John| 30|        11| 29000|\n",
      "|James| 29|         9| 26000|\n",
      "|Paula| 23|         3| 21000|\n",
      "+-----+---+----------+------+\n",
      "\n"
     ]
    }
   ],
   "execution_count": 8
  },
  {
   "cell_type": "code",
   "id": "cbc4375a",
   "metadata": {
    "ExecuteTime": {
     "end_time": "2025-07-15T11:47:24.123931Z",
     "start_time": "2025-07-15T11:47:24.122678Z"
    }
   },
   "source": [],
   "outputs": [],
   "execution_count": null
  }
 ],
 "metadata": {
  "kernelspec": {
   "display_name": "Python 3 (ipykernel)",
   "language": "python",
   "name": "python3"
  },
  "language_info": {
   "codemirror_mode": {
    "name": "ipython",
    "version": 3
   },
   "file_extension": ".py",
   "mimetype": "text/x-python",
   "name": "python",
   "nbconvert_exporter": "python",
   "pygments_lexer": "ipython3",
   "version": "3.9.18"
  }
 },
 "nbformat": 4,
 "nbformat_minor": 5
}
