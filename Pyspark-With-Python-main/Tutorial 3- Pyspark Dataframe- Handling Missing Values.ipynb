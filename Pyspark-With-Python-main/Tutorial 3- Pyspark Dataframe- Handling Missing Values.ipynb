{
 "cells": [
  {
   "cell_type": "markdown",
   "id": "ded0783b",
   "metadata": {},
   "source": [
    "### Pyspark Handling Missing Values\n",
    "- Dropping Columns\n",
    "- Dropping Rows\n",
    "- Various Parameter In Dropping functionalities\n",
    "- Handling Missing values by Mean, MEdian And Mode"
   ]
  },
  {
   "cell_type": "code",
   "id": "805e7382",
   "metadata": {
    "ExecuteTime": {
     "end_time": "2025-07-15T11:47:12.772288Z",
     "start_time": "2025-07-15T11:47:12.766812Z"
    }
   },
   "source": [
    "from pyspark.sql import SparkSession\n",
    "spark=SparkSession.builder.appName('Practise').getOrCreate()"
   ],
   "outputs": [],
   "execution_count": 16
  },
  {
   "cell_type": "code",
   "id": "e48ebc07",
   "metadata": {
    "ExecuteTime": {
     "end_time": "2025-07-15T11:47:12.849747Z",
     "start_time": "2025-07-15T11:47:12.782046Z"
    }
   },
   "source": [
    "df_pyspark=spark.read.csv('test2.csv',header=True,inferSchema=True)"
   ],
   "outputs": [],
   "execution_count": 17
  },
  {
   "cell_type": "code",
   "id": "53ab7bbc",
   "metadata": {
    "ExecuteTime": {
     "end_time": "2025-07-15T11:47:12.878154Z",
     "start_time": "2025-07-15T11:47:12.876180Z"
    }
   },
   "source": [
    "df_pyspark.printSchema()"
   ],
   "outputs": [
    {
     "name": "stdout",
     "output_type": "stream",
     "text": [
      "root\n",
      " |-- Name: string (nullable = true)\n",
      " |-- age: integer (nullable = true)\n",
      " |-- Experience: integer (nullable = true)\n",
      " |-- Salary: integer (nullable = true)\n",
      "\n"
     ]
    }
   ],
   "execution_count": 18
  },
  {
   "cell_type": "code",
   "id": "ed677b30",
   "metadata": {
    "ExecuteTime": {
     "end_time": "2025-07-15T11:47:12.940978Z",
     "start_time": "2025-07-15T11:47:12.901969Z"
    }
   },
   "source": [
    "df_pyspark.show()"
   ],
   "outputs": [
    {
     "name": "stdout",
     "output_type": "stream",
     "text": [
      "+-------+----+----------+------+\n",
      "|   Name| age|Experience|Salary|\n",
      "+-------+----+----------+------+\n",
      "|   John|  31|        10| 30000|\n",
      "|  James|  30|         8| 25000|\n",
      "|   Anne|  29|         4| 20000|\n",
      "|  Paula|  24|         3| 20000|\n",
      "|  Lizzy|  21|         1| 15000|\n",
      "|   Alex|  23|         2| 18000|\n",
      "|Michael|NULL|      NULL| 40000|\n",
      "|   NULL|  34|        10| 38000|\n",
      "|   NULL|  36|      NULL|  NULL|\n",
      "+-------+----+----------+------+\n",
      "\n"
     ]
    }
   ],
   "execution_count": 19
  },
  {
   "cell_type": "code",
   "id": "523d3c4e",
   "metadata": {
    "ExecuteTime": {
     "end_time": "2025-07-15T11:47:13.035532Z",
     "start_time": "2025-07-15T11:47:12.987154Z"
    }
   },
   "source": [
    "##drop the columns\n",
    "df_pyspark.drop('Name').show()"
   ],
   "outputs": [
    {
     "name": "stdout",
     "output_type": "stream",
     "text": [
      "+----+----------+------+\n",
      "| age|Experience|Salary|\n",
      "+----+----------+------+\n",
      "|  31|        10| 30000|\n",
      "|  30|         8| 25000|\n",
      "|  29|         4| 20000|\n",
      "|  24|         3| 20000|\n",
      "|  21|         1| 15000|\n",
      "|  23|         2| 18000|\n",
      "|NULL|      NULL| 40000|\n",
      "|  34|        10| 38000|\n",
      "|  36|      NULL|  NULL|\n",
      "+----+----------+------+\n",
      "\n"
     ]
    }
   ],
   "execution_count": 20
  },
  {
   "cell_type": "code",
   "id": "9c041e07",
   "metadata": {
    "ExecuteTime": {
     "end_time": "2025-07-15T11:47:13.113257Z",
     "start_time": "2025-07-15T11:47:13.075011Z"
    }
   },
   "source": [
    "df_pyspark.show()"
   ],
   "outputs": [
    {
     "name": "stdout",
     "output_type": "stream",
     "text": [
      "+-------+----+----------+------+\n",
      "|   Name| age|Experience|Salary|\n",
      "+-------+----+----------+------+\n",
      "|   John|  31|        10| 30000|\n",
      "|  James|  30|         8| 25000|\n",
      "|   Anne|  29|         4| 20000|\n",
      "|  Paula|  24|         3| 20000|\n",
      "|  Lizzy|  21|         1| 15000|\n",
      "|   Alex|  23|         2| 18000|\n",
      "|Michael|NULL|      NULL| 40000|\n",
      "|   NULL|  34|        10| 38000|\n",
      "|   NULL|  36|      NULL|  NULL|\n",
      "+-------+----+----------+------+\n",
      "\n"
     ]
    }
   ],
   "execution_count": 21
  },
  {
   "cell_type": "code",
   "id": "36845e38",
   "metadata": {
    "ExecuteTime": {
     "end_time": "2025-07-15T11:47:13.186314Z",
     "start_time": "2025-07-15T11:47:13.151159Z"
    }
   },
   "source": [
    "df_pyspark.na.drop().show()"
   ],
   "outputs": [
    {
     "name": "stdout",
     "output_type": "stream",
     "text": [
      "+-----+---+----------+------+\n",
      "| Name|age|Experience|Salary|\n",
      "+-----+---+----------+------+\n",
      "| John| 31|        10| 30000|\n",
      "|James| 30|         8| 25000|\n",
      "| Anne| 29|         4| 20000|\n",
      "|Paula| 24|         3| 20000|\n",
      "|Lizzy| 21|         1| 15000|\n",
      "| Alex| 23|         2| 18000|\n",
      "+-----+---+----------+------+\n",
      "\n"
     ]
    }
   ],
   "execution_count": 22
  },
  {
   "cell_type": "code",
   "id": "156e41cf",
   "metadata": {
    "ExecuteTime": {
     "end_time": "2025-07-15T11:47:13.246011Z",
     "start_time": "2025-07-15T11:47:13.221460Z"
    }
   },
   "source": [
    "### any==how\n",
    "df_pyspark.na.drop(how=\"any\").show()"
   ],
   "outputs": [
    {
     "name": "stdout",
     "output_type": "stream",
     "text": [
      "+-----+---+----------+------+\n",
      "| Name|age|Experience|Salary|\n",
      "+-----+---+----------+------+\n",
      "| John| 31|        10| 30000|\n",
      "|James| 30|         8| 25000|\n",
      "| Anne| 29|         4| 20000|\n",
      "|Paula| 24|         3| 20000|\n",
      "|Lizzy| 21|         1| 15000|\n",
      "| Alex| 23|         2| 18000|\n",
      "+-----+---+----------+------+\n",
      "\n"
     ]
    }
   ],
   "execution_count": 23
  },
  {
   "cell_type": "code",
   "id": "e9af0da0",
   "metadata": {
    "ExecuteTime": {
     "end_time": "2025-07-15T11:47:13.316260Z",
     "start_time": "2025-07-15T11:47:13.285263Z"
    }
   },
   "source": [
    "##threshold\n",
    "df_pyspark.na.drop(how=\"any\",thresh=3).show()"
   ],
   "outputs": [
    {
     "name": "stdout",
     "output_type": "stream",
     "text": [
      "+-----+---+----------+------+\n",
      "| Name|age|Experience|Salary|\n",
      "+-----+---+----------+------+\n",
      "| John| 31|        10| 30000|\n",
      "|James| 30|         8| 25000|\n",
      "| Anne| 29|         4| 20000|\n",
      "|Paula| 24|         3| 20000|\n",
      "|Lizzy| 21|         1| 15000|\n",
      "| Alex| 23|         2| 18000|\n",
      "| NULL| 34|        10| 38000|\n",
      "+-----+---+----------+------+\n",
      "\n"
     ]
    }
   ],
   "execution_count": 24
  },
  {
   "cell_type": "code",
   "id": "787fc949",
   "metadata": {
    "ExecuteTime": {
     "end_time": "2025-07-15T11:47:13.380797Z",
     "start_time": "2025-07-15T11:47:13.354810Z"
    }
   },
   "source": [
    "##Subset\n",
    "df_pyspark.na.drop(how=\"any\",subset=['Experience']).show()"
   ],
   "outputs": [
    {
     "name": "stdout",
     "output_type": "stream",
     "text": [
      "+-----+---+----------+------+\n",
      "| Name|age|Experience|Salary|\n",
      "+-----+---+----------+------+\n",
      "| John| 31|        10| 30000|\n",
      "|James| 30|         8| 25000|\n",
      "| Anne| 29|         4| 20000|\n",
      "|Paula| 24|         3| 20000|\n",
      "|Lizzy| 21|         1| 15000|\n",
      "| Alex| 23|         2| 18000|\n",
      "| NULL| 34|        10| 38000|\n",
      "+-----+---+----------+------+\n",
      "\n"
     ]
    }
   ],
   "execution_count": 25
  },
  {
   "cell_type": "code",
   "id": "72bad9ba",
   "metadata": {
    "ExecuteTime": {
     "end_time": "2025-07-15T11:47:13.445003Z",
     "start_time": "2025-07-15T11:47:13.419967Z"
    }
   },
   "source": [
    "### Filling the Missing Value\n",
    "df_pyspark.na.fill('Missing Values',['Experience','age']).show()"
   ],
   "outputs": [
    {
     "name": "stdout",
     "output_type": "stream",
     "text": [
      "+-------+----+----------+------+\n",
      "|   Name| age|Experience|Salary|\n",
      "+-------+----+----------+------+\n",
      "|   John|  31|        10| 30000|\n",
      "|  James|  30|         8| 25000|\n",
      "|   Anne|  29|         4| 20000|\n",
      "|  Paula|  24|         3| 20000|\n",
      "|  Lizzy|  21|         1| 15000|\n",
      "|   Alex|  23|         2| 18000|\n",
      "|Michael|NULL|      NULL| 40000|\n",
      "|   NULL|  34|        10| 38000|\n",
      "|   NULL|  36|      NULL|  NULL|\n",
      "+-------+----+----------+------+\n",
      "\n"
     ]
    }
   ],
   "execution_count": 26
  },
  {
   "cell_type": "code",
   "id": "64e01bb9",
   "metadata": {
    "ExecuteTime": {
     "end_time": "2025-07-15T11:47:13.522559Z",
     "start_time": "2025-07-15T11:47:13.486246Z"
    }
   },
   "source": [
    "df_pyspark.show()"
   ],
   "outputs": [
    {
     "name": "stdout",
     "output_type": "stream",
     "text": [
      "+-------+----+----------+------+\n",
      "|   Name| age|Experience|Salary|\n",
      "+-------+----+----------+------+\n",
      "|   John|  31|        10| 30000|\n",
      "|  James|  30|         8| 25000|\n",
      "|   Anne|  29|         4| 20000|\n",
      "|  Paula|  24|         3| 20000|\n",
      "|  Lizzy|  21|         1| 15000|\n",
      "|   Alex|  23|         2| 18000|\n",
      "|Michael|NULL|      NULL| 40000|\n",
      "|   NULL|  34|        10| 38000|\n",
      "|   NULL|  36|      NULL|  NULL|\n",
      "+-------+----+----------+------+\n",
      "\n"
     ]
    }
   ],
   "execution_count": 27
  },
  {
   "cell_type": "code",
   "id": "b66832fd",
   "metadata": {
    "ExecuteTime": {
     "end_time": "2025-07-15T11:47:13.562081Z",
     "start_time": "2025-07-15T11:47:13.560101Z"
    }
   },
   "source": [
    "df_pyspark.printSchema()"
   ],
   "outputs": [
    {
     "name": "stdout",
     "output_type": "stream",
     "text": [
      "root\n",
      " |-- Name: string (nullable = true)\n",
      " |-- age: integer (nullable = true)\n",
      " |-- Experience: integer (nullable = true)\n",
      " |-- Salary: integer (nullable = true)\n",
      "\n"
     ]
    }
   ],
   "execution_count": 28
  },
  {
   "cell_type": "code",
   "id": "e31190f2",
   "metadata": {
    "ExecuteTime": {
     "end_time": "2025-07-15T11:47:13.569919Z",
     "start_time": "2025-07-15T11:47:13.566774Z"
    }
   },
   "source": [
    "from pyspark.ml.feature import Imputer\n",
    "\n",
    "imputer = Imputer(\n",
    "    inputCols=['age', 'Experience', 'Salary'], \n",
    "    outputCols=[\"{}_imputed\".format(c) for c in ['age', 'Experience', 'Salary']]\n",
    "    ).setStrategy(\"median\")"
   ],
   "outputs": [],
   "execution_count": 29
  },
  {
   "cell_type": "code",
   "id": "d84c4a3d",
   "metadata": {
    "ExecuteTime": {
     "end_time": "2025-07-15T11:47:13.708746Z",
     "start_time": "2025-07-15T11:47:13.577374Z"
    }
   },
   "source": [
    "# Add imputation cols to df\n",
    "imputer.fit(df_pyspark).transform(df_pyspark).show()"
   ],
   "outputs": [
    {
     "name": "stdout",
     "output_type": "stream",
     "text": [
      "+-------+----+----------+------+-----------+------------------+--------------+\n",
      "|   Name| age|Experience|Salary|age_imputed|Experience_imputed|Salary_imputed|\n",
      "+-------+----+----------+------+-----------+------------------+--------------+\n",
      "|   John|  31|        10| 30000|         31|                10|         30000|\n",
      "|  James|  30|         8| 25000|         30|                 8|         25000|\n",
      "|   Anne|  29|         4| 20000|         29|                 4|         20000|\n",
      "|  Paula|  24|         3| 20000|         24|                 3|         20000|\n",
      "|  Lizzy|  21|         1| 15000|         21|                 1|         15000|\n",
      "|   Alex|  23|         2| 18000|         23|                 2|         18000|\n",
      "|Michael|NULL|      NULL| 40000|         29|                 4|         40000|\n",
      "|   NULL|  34|        10| 38000|         34|                10|         38000|\n",
      "|   NULL|  36|      NULL|  NULL|         36|                 4|         20000|\n",
      "+-------+----+----------+------+-----------+------------------+--------------+\n",
      "\n"
     ]
    }
   ],
   "execution_count": 30
  },
  {
   "cell_type": "code",
   "id": "835812ae",
   "metadata": {
    "ExecuteTime": {
     "end_time": "2025-07-15T11:47:13.756603Z",
     "start_time": "2025-07-15T11:47:13.755412Z"
    }
   },
   "source": [],
   "outputs": [],
   "execution_count": null
  }
 ],
 "metadata": {
  "kernelspec": {
   "display_name": "Python 3 (ipykernel)",
   "language": "python",
   "name": "python3"
  },
  "language_info": {
   "codemirror_mode": {
    "name": "ipython",
    "version": 3
   },
   "file_extension": ".py",
   "mimetype": "text/x-python",
   "name": "python",
   "nbconvert_exporter": "python",
   "pygments_lexer": "ipython3",
   "version": "3.9.18"
  }
 },
 "nbformat": 4,
 "nbformat_minor": 5
}
