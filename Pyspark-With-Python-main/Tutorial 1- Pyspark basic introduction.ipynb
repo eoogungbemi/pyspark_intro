{
 "cells": [
  {
   "cell_type": "markdown",
   "id": "8ff41f5d",
   "metadata": {},
   "source": [
    "#### Pyspark Basic Introduction"
   ]
  },
  {
   "cell_type": "markdown",
   "id": "9c896edc-211a-4e8d-b7da-5af7cb7e22de",
   "metadata": {},
   "source": [
    "!pip install pyspark"
   ]
  },
  {
   "cell_type": "code",
   "id": "08b29f6a",
   "metadata": {
    "ExecuteTime": {
     "end_time": "2025-07-15T11:45:49.798236Z",
     "start_time": "2025-07-15T11:45:49.743530Z"
    }
   },
   "source": [
    "import pyspark"
   ],
   "outputs": [],
   "execution_count": 2
  },
  {
   "cell_type": "code",
   "id": "e1de79e4",
   "metadata": {
    "ExecuteTime": {
     "end_time": "2025-07-15T17:31:45.066333Z",
     "start_time": "2025-07-15T17:31:45.062389Z"
    }
   },
   "source": [
    "import pandas as pd\n",
    "type(pd.read_csv(r'test1.csv'))"
   ],
   "outputs": [
    {
     "data": {
      "text/plain": [
       "pandas.core.frame.DataFrame"
      ]
     },
     "execution_count": 12,
     "metadata": {},
     "output_type": "execute_result"
    }
   ],
   "execution_count": 12
  },
  {
   "cell_type": "code",
   "id": "37a82e23",
   "metadata": {
    "ExecuteTime": {
     "end_time": "2025-07-15T17:32:13.884824Z",
     "start_time": "2025-07-15T17:32:13.882462Z"
    }
   },
   "source": [
    "from pyspark.sql import SparkSession"
   ],
   "outputs": [],
   "execution_count": 13
  },
  {
   "cell_type": "code",
   "id": "c334b45e",
   "metadata": {
    "ExecuteTime": {
     "end_time": "2025-07-15T17:32:30.028359Z",
     "start_time": "2025-07-15T17:32:30.023472Z"
    }
   },
   "source": [
    "spark=SparkSession.builder.appName('Practise').getOrCreate()"
   ],
   "outputs": [],
   "execution_count": 14
  },
  {
   "cell_type": "code",
   "id": "558caca5",
   "metadata": {
    "ExecuteTime": {
     "end_time": "2025-07-15T17:32:37.277604Z",
     "start_time": "2025-07-15T17:32:37.273529Z"
    }
   },
   "source": [
    "spark"
   ],
   "outputs": [
    {
     "data": {
      "text/plain": [
       "<pyspark.sql.session.SparkSession at 0x122b9df10>"
      ],
      "text/html": [
       "\n",
       "            <div>\n",
       "                <p><b>SparkSession - in-memory</b></p>\n",
       "                \n",
       "        <div>\n",
       "            <p><b>SparkContext</b></p>\n",
       "\n",
       "            <p><a href=\"http://mac.lan:4040\">Spark UI</a></p>\n",
       "\n",
       "            <dl>\n",
       "              <dt>Version</dt>\n",
       "                <dd><code>v4.0.0</code></dd>\n",
       "              <dt>Master</dt>\n",
       "                <dd><code>local[*]</code></dd>\n",
       "              <dt>AppName</dt>\n",
       "                <dd><code>Practise</code></dd>\n",
       "            </dl>\n",
       "        </div>\n",
       "        \n",
       "            </div>\n",
       "        "
      ]
     },
     "execution_count": 15,
     "metadata": {},
     "output_type": "execute_result"
    }
   ],
   "execution_count": 15
  },
  {
   "cell_type": "code",
   "id": "f7ac726b",
   "metadata": {
    "ExecuteTime": {
     "end_time": "2025-07-15T17:33:26.204704Z",
     "start_time": "2025-07-15T17:33:26.101770Z"
    }
   },
   "source": [
    "df_pyspark=spark.read.csv('test1.csv')"
   ],
   "outputs": [],
   "execution_count": 16
  },
  {
   "cell_type": "code",
   "id": "6f077d49",
   "metadata": {
    "ExecuteTime": {
     "end_time": "2025-07-15T17:33:40.969334Z",
     "start_time": "2025-07-15T17:33:40.894970Z"
    }
   },
   "source": [
    "df_pyspark=spark.read.option('header','true').csv('test1.csv')"
   ],
   "outputs": [],
   "execution_count": 17
  },
  {
   "cell_type": "code",
   "id": "2e0eee51",
   "metadata": {
    "ExecuteTime": {
     "end_time": "2025-07-15T17:33:55.702375Z",
     "start_time": "2025-07-15T17:33:55.699576Z"
    }
   },
   "source": [
    "type(df_pyspark)"
   ],
   "outputs": [
    {
     "data": {
      "text/plain": [
       "pyspark.sql.classic.dataframe.DataFrame"
      ]
     },
     "execution_count": 18,
     "metadata": {},
     "output_type": "execute_result"
    }
   ],
   "execution_count": 18
  },
  {
   "cell_type": "code",
   "id": "bb26bf24",
   "metadata": {
    "ExecuteTime": {
     "end_time": "2025-07-15T17:34:41.337159Z",
     "start_time": "2025-07-15T17:34:41.334258Z"
    }
   },
   "source": [
    "df_pyspark.printSchema()"
   ],
   "outputs": [
    {
     "name": "stdout",
     "output_type": "stream",
     "text": [
      "root\n",
      " |-- Name: string (nullable = true)\n",
      " |-- age: string (nullable = true)\n",
      " |-- Experience: string (nullable = true)\n",
      " |-- Salary: string (nullable = true)\n",
      "\n"
     ]
    }
   ],
   "execution_count": 19
  },
  {
   "cell_type": "code",
   "id": "e9c3ce8e",
   "metadata": {
    "ExecuteTime": {
     "end_time": "2025-07-15T17:35:01.676913Z",
     "start_time": "2025-07-15T17:35:01.632110Z"
    }
   },
   "source": [
    "df_pyspark.show()"
   ],
   "outputs": [
    {
     "name": "stdout",
     "output_type": "stream",
     "text": [
      "+-----+---+----------+------+\n",
      "| Name|age|Experience|Salary|\n",
      "+-----+---+----------+------+\n",
      "| John| 30|        11| 29000|\n",
      "|James| 29|         9| 26000|\n",
      "| Anne| 28|         5| 19000|\n",
      "|Paula| 23|         3| 21000|\n",
      "|Lizzy| 20|         1| 14000|\n",
      "| Alex| 22|         2| 19000|\n",
      "+-----+---+----------+------+\n",
      "\n"
     ]
    }
   ],
   "execution_count": 20
  },
  {
   "cell_type": "code",
   "id": "ff4bfa86-b620-46c1-8d18-5229a4a69285",
   "metadata": {
    "ExecuteTime": {
     "end_time": "2025-07-15T11:46:09.012596Z",
     "start_time": "2025-07-15T11:46:09.011063Z"
    }
   },
   "source": [],
   "outputs": [],
   "execution_count": null
  },
  {
   "metadata": {},
   "cell_type": "code",
   "outputs": [],
   "execution_count": null,
   "source": "",
   "id": "de9b4b6c9623ba5c"
  }
 ],
 "metadata": {
  "kernelspec": {
   "display_name": "pyspark",
   "language": "python",
   "name": "pyspark"
  },
  "language_info": {
   "codemirror_mode": {
    "name": "ipython",
    "version": 3
   },
   "file_extension": ".py",
   "mimetype": "text/x-python",
   "name": "python",
   "nbconvert_exporter": "python",
   "pygments_lexer": "ipython3",
   "version": "3.9.18"
  }
 },
 "nbformat": 4,
 "nbformat_minor": 5
}
