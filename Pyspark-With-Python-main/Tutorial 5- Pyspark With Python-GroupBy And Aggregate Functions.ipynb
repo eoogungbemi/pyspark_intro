{
 "cells": [
  {
   "cell_type": "markdown",
   "id": "2efa0fce",
   "metadata": {},
   "source": [
    "### Pyspark GroupBy And Aggregate Functions"
   ]
  },
  {
   "cell_type": "code",
   "id": "8f336300",
   "metadata": {
    "ExecuteTime": {
     "end_time": "2025-07-15T11:47:27.597630Z",
     "start_time": "2025-07-15T11:47:27.545863Z"
    }
   },
   "source": [
    "from pyspark.sql import SparkSession"
   ],
   "outputs": [],
   "execution_count": 1
  },
  {
   "cell_type": "code",
   "id": "23513a5d",
   "metadata": {
    "ExecuteTime": {
     "end_time": "2025-07-15T11:47:29.404450Z",
     "start_time": "2025-07-15T11:47:27.637499Z"
    }
   },
   "source": [
    "spark=SparkSession.builder.appName('Agg').getOrCreate()"
   ],
   "outputs": [
    {
     "name": "stderr",
     "output_type": "stream",
     "text": [
      "WARNING: Using incubator modules: jdk.incubator.vector\n",
      "Using Spark's default log4j profile: org/apache/spark/log4j2-defaults.properties\n",
      "Setting default log level to \"WARN\".\n",
      "To adjust logging level use sc.setLogLevel(newLevel). For SparkR, use setLogLevel(newLevel).\n",
      "25/07/15 12:47:28 WARN NativeCodeLoader: Unable to load native-hadoop library for your platform... using builtin-java classes where applicable\n",
      "25/07/15 12:47:28 WARN Utils: Service 'SparkUI' could not bind on port 4040. Attempting port 4041.\n",
      "25/07/15 12:47:28 WARN Utils: Service 'SparkUI' could not bind on port 4041. Attempting port 4042.\n",
      "25/07/15 12:47:28 WARN Utils: Service 'SparkUI' could not bind on port 4042. Attempting port 4043.\n"
     ]
    }
   ],
   "execution_count": 2
  },
  {
   "cell_type": "code",
   "id": "248b3a5c",
   "metadata": {
    "ExecuteTime": {
     "end_time": "2025-07-15T11:47:29.519778Z",
     "start_time": "2025-07-15T11:47:29.413734Z"
    }
   },
   "source": [
    "spark"
   ],
   "outputs": [
    {
     "data": {
      "text/plain": [
       "<pyspark.sql.session.SparkSession at 0x114a8ed30>"
      ],
      "text/html": [
       "\n",
       "            <div>\n",
       "                <p><b>SparkSession - in-memory</b></p>\n",
       "                \n",
       "        <div>\n",
       "            <p><b>SparkContext</b></p>\n",
       "\n",
       "            <p><a href=\"http://mac.lan:4043\">Spark UI</a></p>\n",
       "\n",
       "            <dl>\n",
       "              <dt>Version</dt>\n",
       "                <dd><code>v4.0.0</code></dd>\n",
       "              <dt>Master</dt>\n",
       "                <dd><code>local[*]</code></dd>\n",
       "              <dt>AppName</dt>\n",
       "                <dd><code>Agg</code></dd>\n",
       "            </dl>\n",
       "        </div>\n",
       "        \n",
       "            </div>\n",
       "        "
      ]
     },
     "execution_count": 3,
     "metadata": {},
     "output_type": "execute_result"
    }
   ],
   "execution_count": 3
  },
  {
   "cell_type": "code",
   "id": "4d3bd081",
   "metadata": {
    "ExecuteTime": {
     "end_time": "2025-07-15T11:47:30.519574Z",
     "start_time": "2025-07-15T11:47:29.531006Z"
    }
   },
   "source": [
    "df_pyspark=spark.read.csv('test3.csv',header=True,inferSchema=True)"
   ],
   "outputs": [],
   "execution_count": 4
  },
  {
   "cell_type": "code",
   "id": "7ed791ed",
   "metadata": {
    "ExecuteTime": {
     "end_time": "2025-07-15T11:47:30.640941Z",
     "start_time": "2025-07-15T11:47:30.532385Z"
    }
   },
   "source": [
    "df_pyspark.show()"
   ],
   "outputs": [
    {
     "name": "stdout",
     "output_type": "stream",
     "text": [
      "+-------+------------+------+\n",
      "|   Name| Departments|salary|\n",
      "+-------+------------+------+\n",
      "|  Kelly|Data Science| 10000|\n",
      "|  Kelly|         IOT|  5000|\n",
      "|Michael|    Big Data|  4000|\n",
      "|  Kelly|    Big Data|  4000|\n",
      "|Michael|Data Science|  3000|\n",
      "| Stuart|Data Science| 20000|\n",
      "| Stuart|         IOT| 10000|\n",
      "| Stuart|    Big Data|  5000|\n",
      "| Steven|Data Science| 10000|\n",
      "| Steven|    Big Data|  2000|\n",
      "+-------+------------+------+\n",
      "\n"
     ]
    }
   ],
   "execution_count": 5
  },
  {
   "cell_type": "code",
   "id": "d57d24ca",
   "metadata": {
    "ExecuteTime": {
     "end_time": "2025-07-15T11:47:30.842703Z",
     "start_time": "2025-07-15T11:47:30.840322Z"
    }
   },
   "source": [
    "df_pyspark.printSchema()"
   ],
   "outputs": [
    {
     "name": "stdout",
     "output_type": "stream",
     "text": [
      "root\n",
      " |-- Name: string (nullable = true)\n",
      " |-- Departments: string (nullable = true)\n",
      " |-- salary: integer (nullable = true)\n",
      "\n"
     ]
    }
   ],
   "execution_count": 6
  },
  {
   "cell_type": "code",
   "id": "f15f8197",
   "metadata": {
    "ExecuteTime": {
     "end_time": "2025-07-15T11:47:31.166927Z",
     "start_time": "2025-07-15T11:47:30.863787Z"
    }
   },
   "source": [
    "## Groupby\n",
    "### Grouped to find the maximum salary\n",
    "df_pyspark.groupBy('Name').sum().show()"
   ],
   "outputs": [
    {
     "name": "stdout",
     "output_type": "stream",
     "text": [
      "+-------+-----------+\n",
      "|   Name|sum(salary)|\n",
      "+-------+-----------+\n",
      "|  Kelly|      19000|\n",
      "| Stuart|      35000|\n",
      "|Michael|       7000|\n",
      "| Steven|      12000|\n",
      "+-------+-----------+\n",
      "\n"
     ]
    }
   ],
   "execution_count": 7
  },
  {
   "cell_type": "code",
   "id": "fc122ace",
   "metadata": {
    "ExecuteTime": {
     "end_time": "2025-07-15T11:47:31.308725Z",
     "start_time": "2025-07-15T11:47:31.197762Z"
    }
   },
   "source": [
    "df_pyspark.groupBy('Name').avg().show()"
   ],
   "outputs": [
    {
     "name": "stdout",
     "output_type": "stream",
     "text": [
      "+-------+------------------+\n",
      "|   Name|       avg(salary)|\n",
      "+-------+------------------+\n",
      "|  Kelly| 6333.333333333333|\n",
      "| Stuart|11666.666666666666|\n",
      "|Michael|            3500.0|\n",
      "| Steven|            6000.0|\n",
      "+-------+------------------+\n",
      "\n"
     ]
    }
   ],
   "execution_count": 8
  },
  {
   "cell_type": "code",
   "id": "151d2264",
   "metadata": {
    "ExecuteTime": {
     "end_time": "2025-07-15T11:47:31.394699Z",
     "start_time": "2025-07-15T11:47:31.336006Z"
    }
   },
   "source": [
    "### Groupby Departmernts  which gives maximum salary\n",
    "df_pyspark.groupBy('Departments').sum().show()"
   ],
   "outputs": [
    {
     "name": "stdout",
     "output_type": "stream",
     "text": [
      "+------------+-----------+\n",
      "| Departments|sum(salary)|\n",
      "+------------+-----------+\n",
      "|         IOT|      15000|\n",
      "|    Big Data|      15000|\n",
      "|Data Science|      43000|\n",
      "+------------+-----------+\n",
      "\n"
     ]
    }
   ],
   "execution_count": 9
  },
  {
   "cell_type": "code",
   "id": "66fe5552",
   "metadata": {
    "ExecuteTime": {
     "end_time": "2025-07-15T11:47:31.486429Z",
     "start_time": "2025-07-15T11:47:31.423442Z"
    }
   },
   "source": [
    "df_pyspark.groupBy('Departments').mean().show()"
   ],
   "outputs": [
    {
     "name": "stdout",
     "output_type": "stream",
     "text": [
      "+------------+-----------+\n",
      "| Departments|avg(salary)|\n",
      "+------------+-----------+\n",
      "|         IOT|     7500.0|\n",
      "|    Big Data|     3750.0|\n",
      "|Data Science|    10750.0|\n",
      "+------------+-----------+\n",
      "\n"
     ]
    }
   ],
   "execution_count": 10
  },
  {
   "cell_type": "code",
   "id": "bc7bf192",
   "metadata": {
    "ExecuteTime": {
     "end_time": "2025-07-15T11:47:31.591446Z",
     "start_time": "2025-07-15T11:47:31.513792Z"
    }
   },
   "source": [
    "df_pyspark.groupBy('Departments').count().show()"
   ],
   "outputs": [
    {
     "name": "stdout",
     "output_type": "stream",
     "text": [
      "+------------+-----+\n",
      "| Departments|count|\n",
      "+------------+-----+\n",
      "|         IOT|    2|\n",
      "|    Big Data|    4|\n",
      "|Data Science|    4|\n",
      "+------------+-----+\n",
      "\n"
     ]
    }
   ],
   "execution_count": 11
  },
  {
   "cell_type": "code",
   "id": "37b26cbe",
   "metadata": {
    "ExecuteTime": {
     "end_time": "2025-07-15T11:47:31.684612Z",
     "start_time": "2025-07-15T11:47:31.618431Z"
    }
   },
   "source": [
    "df_pyspark.agg({'Salary':'sum'}).show()"
   ],
   "outputs": [
    {
     "name": "stdout",
     "output_type": "stream",
     "text": [
      "+-----------+\n",
      "|sum(Salary)|\n",
      "+-----------+\n",
      "|      73000|\n",
      "+-----------+\n",
      "\n"
     ]
    }
   ],
   "execution_count": 12
  },
  {
   "cell_type": "code",
   "id": "c82781ad",
   "metadata": {
    "ExecuteTime": {
     "end_time": "2025-07-15T11:47:31.711956Z",
     "start_time": "2025-07-15T11:47:31.710775Z"
    }
   },
   "source": [],
   "outputs": [],
   "execution_count": null
  }
 ],
 "metadata": {
  "kernelspec": {
   "display_name": "Python 3 (ipykernel)",
   "language": "python",
   "name": "python3"
  },
  "language_info": {
   "codemirror_mode": {
    "name": "ipython",
    "version": 3
   },
   "file_extension": ".py",
   "mimetype": "text/x-python",
   "name": "python",
   "nbconvert_exporter": "python",
   "pygments_lexer": "ipython3",
   "version": "3.9.18"
  }
 },
 "nbformat": 4,
 "nbformat_minor": 5
}
